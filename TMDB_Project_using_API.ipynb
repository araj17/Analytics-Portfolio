{
  "cells": [
    {
      "cell_type": "markdown",
      "metadata": {
        "id": "view-in-github",
        "colab_type": "text"
      },
      "source": [
        "<a href=\"https://colab.research.google.com/github/araj17/Analytics-Portfolio/blob/main/TMDB_Project_using_API.ipynb\" target=\"_parent\"><img src=\"https://colab.research.google.com/assets/colab-badge.svg\" alt=\"Open In Colab\"/></a>"
      ]
    },
    {
      "cell_type": "code",
      "execution_count": null,
      "metadata": {
        "id": "8UKp3l4g-n8z"
      },
      "outputs": [],
      "source": [
        "# https://api.themoviedb.org/3/search/tv?api_key=726b2e76bc9d66c75617e8e61bd317d1&query=game"
      ]
    },
    {
      "cell_type": "code",
      "execution_count": null,
      "metadata": {
        "id": "Dga9D05x-n85",
        "outputId": "00a17e5f-f969-4992-c805-6d9da9679f16"
      },
      "outputs": [
        {
          "name": "stdout",
          "output_type": "stream",
          "text": [
            "Game of Thrones\n",
            "Game Shakers\n",
            "The Game\n",
            "Game of Thrones: The Iron Anniversary\n",
            "LIAR GAME\n",
            "The Mighty Ducks: Game Changers\n",
            "NEW GAME!\n",
            "The English Game\n",
            "Most Dangerous Game\n",
            "Guy's Ultimate Game Night\n",
            "Match Game\n",
            "The Game\n",
            "The Lying Game\n",
            "Still Game\n",
            "Captain N: The Game Master\n",
            "Game Changer\n",
            "Game of Silence\n",
            "Squid Game: The Challenge\n",
            "Back in the Game\n",
            "Match Game\n"
          ]
        }
      ],
      "source": [
        "import requests\n",
        "api_key = \"726b2e76bc9d66c75617e8e61bd317d1\"\n",
        "api_url = \"https://api.themoviedb.org/3\"\n",
        "\n",
        "\n",
        "params = {'query': \"game\", 'api_key' : api_key}\n",
        "header = {'Accept': 'application/json'}\n",
        "\n",
        "response = requests.get(api_url + \"/search/tv\", headers = header, params = params)\n",
        "\n",
        "# print(response.text)\n",
        "\n",
        "data = response.json()\n",
        "results = data.get('results')\n",
        "# results = data['results']\n",
        "\n",
        "for result in results:\n",
        "    print(result['original_name'])"
      ]
    },
    {
      "cell_type": "code",
      "execution_count": null,
      "metadata": {
        "id": "oF0mob0d-n87",
        "outputId": "396d1b3b-ec2e-4f55-f9f6-ef19141fb297"
      },
      "outputs": [
        {
          "name": "stdout",
          "output_type": "stream",
          "text": [
            "https://api.themoviedb.org/3/search/tv?query=game&api_key=726b2e76bc9d66c75617e8e61bd317d1\n"
          ]
        }
      ],
      "source": [
        "print(response.url)"
      ]
    },
    {
      "cell_type": "code",
      "execution_count": null,
      "metadata": {
        "id": "YEazJWlh-n87",
        "outputId": "edfeb4aa-adfe-4f85-f4f6-2009d0d4b563"
      },
      "outputs": [
        {
          "name": "stdout",
          "output_type": "stream",
          "text": [
            "<Response [200]>\n",
            "200\n",
            "https://api.themoviedb.org/3/tv/1399?api_key=726b2e76bc9d66c75617e8e61bd317d1\n",
            "{'Content-Type': 'application/json;charset=utf-8', 'Transfer-Encoding': 'chunked', 'Connection': 'keep-alive', 'Date': 'Fri, 23 Sep 2022 13:23:12 GMT', 'Server': 'openresty', 'Access-Control-Allow-Origin': '*', 'Access-Control-Allow-Methods': 'GET, HEAD, POST, PUT, DELETE, OPTIONS', 'Access-Control-Expose-Headers': 'ETag, X-RateLimit-Limit, X-RateLimit-Remaining, X-RateLimit-Reset, Retry-After, Content-Length, Content-Range', 'Cache-Control': 'public, max-age=28800', 'X-Memc': 'HIT', 'X-Memc-Key': '85981cfe35ca7f11a0bbcd3d255fee3baee051d0', 'X-Memc-Age': '71', 'X-Memc-Expires': '3529', 'ETag': 'W/\"1657a0d600aa909519ead7ce43de52e1\"', 'Content-Encoding': 'gzip', 'Vary': 'Accept-Encoding', 'X-Cache': 'Hit from cloudfront', 'Via': '1.1 1d6770d4464cfbe59377b9fde853a856.cloudfront.net (CloudFront)', 'X-Amz-Cf-Pop': 'DEL51-C1', 'Alt-Svc': 'h3=\":443\"; ma=86400', 'X-Amz-Cf-Id': '3ayXvwOhybu7pZgvPFJ7k1DBWQvxIsJEIWCgouIyfm-GhHEMjJfNfA==', 'Age': '74'}\n",
            "gzip\n",
            "application/json;charset=utf-8\n"
          ]
        }
      ],
      "source": [
        "import requests\n",
        "response = requests.get('https://api.themoviedb.org/3/tv/1399?api_key=726b2e76bc9d66c75617e8e61bd317d1')\n",
        "print(response)\n",
        "print(response.status_code)\n",
        "print(response.url)\n",
        "print(response.headers)\n",
        "\n",
        "#print(response.text)\n",
        "print(response.headers['Content-Encoding'])\n",
        "#text is generated based on this content type\n",
        "\n",
        "print(response.headers['Content-Type'])\n",
        "\n",
        "#json formatter extension\n",
        "# https://chrome.google.com/webstore/detail/json-formatter/bcjindcccaagfpapjjmafapmmgkkhgoa/related"
      ]
    },
    {
      "cell_type": "code",
      "execution_count": null,
      "metadata": {
        "id": "cWS1r4zh-n88",
        "outputId": "fe3b8aa3-b320-4967-ddef-8e434462b5d8"
      },
      "outputs": [
        {
          "name": "stdout",
          "output_type": "stream",
          "text": [
            "https://api.themoviedb.org/3/search/person?query=christian&api_key=726b2e76bc9d66c75617e8e61bd317d1\n",
            "{\"page\":1,\"results\":[{\"adult\":false,\"gender\":2,\"id\":2224,\"known_for\":[{\"adult\":false,\"backdrop_path\":\"/lUdwe0awsLBILK9yKZK9uAiHe5o.jpg\",\"genre_ids\":[28,80,10749],\"id\":319,\"media_type\":\"movie\",\"original_language\":\"en\",\"original_title\":\"True Romance\",\"overview\":\"Clarence marries hooker Alabama, steals cocaine from her pimp, and tries to sell it in Hollywood, while the owners of the coke try to reclaim it.\",\"poster_path\":\"/39lXk6ud6KiJgGbbWI2PUKS7y2.jpg\",\"release_date\":\"1993-09-09\",\"title\":\"True Romance\",\"video\":false,\"vote_average\":7.5,\"vote_count\":2194},{\"backdrop_path\":\"/1SEVAgbaah9wE5xoLt4qWPMBdpL.jpg\",\"first_air_date\":\"2015-06-24\",\"genre_ids\":[80,18],\"id\":62560,\"media_type\":\"tv\",\"name\":\"Mr. Robot\",\"origin_country\":[\"US\"],\"original_language\":\"en\",\"original_name\":\"Mr. Robot\",\"overview\":\"A contemporary and culturally resonant drama about a young programmer, Elliot, who suffers from a debilitating anti-social disorder and decides that he can only connect to people by hacking them. He wields his skills as a weapon to protect the people that he cares about. Elliot will find himself in the intersection between a cybersecurity firm he works for and the underworld organizations that are recruiting him to bring down corporate America.\",\"poster_path\":\"/oKIBhzZzDX07SoE2bOLhq2EE8rf.jpg\",\"vote_average\":8.2,\"vote_count\":3630},{\"adult\":false,\"backdrop_path\":\"/3fChciF2G1wXHsyTfJD9y7uN6Il.jpg\",\"genre_ids\":[27,18,14],\"id\":628,\"media_type\":\"movie\",\"original_language\":\"en\",\"original_title\":\"Interview with the Vampire\",\"overview\":\"A vampire relates his epic life story of love, betrayal, loneliness, and dark hunger to an over-curious reporter.\",\"poster_path\":\"/2162lAT2MP36MyJd2sttmj5du5T.jpg\",\"release_date\":\"1994-11-11\",\"title\":\"Interview with the Vampire\",\"video\":false,\"vote_average\":7.4,\"vote_count\":4833}],\"known_for_department\":\"Acting\",\"name\":\"Christian Slater\",\"popularity\":34.684,\"profile_path\":\"/6ww3uweEEXMlvtNjTlgBHxLErPF.jpg\"},{\"adult\":false,\"gender\":2,\"id\":3894,\"known_for\":[{\"adult\":false,\"backdrop_path\":\"/nMKdUUepR0i5zn0y1T4CsSB5chy.jpg\",\"genre_ids\":[18,28,80,53],\"id\":155,\"media_type\":\"movie\",\"original_language\":\"en\",\"original_title\":\"The Dark Knight\",\"overview\":\"Batman raises the stakes in his war on crime. With the help of Lt. Jim Gordon and District Attorney Harvey Dent, Batman sets out to dismantle the remaining criminal organizations that plague the streets. The partnership proves to be effective, but they soon find themselves prey to a reign of chaos unleashed by a rising criminal mastermind known to the terrified citizens of Gotham as the Joker.\",\"poster_path\":\"/qJ2tW6WMUDux911r6m7haRef0WH.jpg\",\"release_date\":\"2008-07-14\",\"title\":\"The Dark Knight\",\"video\":false,\"vote_average\":8.5,\"vote_count\":28273},{\"adult\":false,\"backdrop_path\":\"/Yrpb32j3eMpMVX7ND3TnOkHnbl.jpg\",\"genre_ids\":[28,80,18,53],\"id\":49026,\"media_type\":\"movie\",\"original_language\":\"en\",\"original_title\":\"The Dark Knight Rises\",\"overview\":\"Following the death of District Attorney Harvey Dent, Batman assumes responsibility for Dent's crimes to protect the late attorney's reputation and is subsequently hunted by the Gotham City Police Department. Eight years later, Batman encounters the mysterious Selina Kyle and the villainous Bane, a new terrorist leader who overwhelms Gotham's finest. The Dark Knight resurfaces to protect a city that has branded him an enemy.\",\"poster_path\":\"/hr0L2aueqlP2BYUblTTjmtn0hw4.jpg\",\"release_date\":\"2012-07-16\",\"title\":\"The Dark Knight Rises\",\"video\":false,\"vote_average\":7.8,\"vote_count\":19962},{\"adult\":false,\"backdrop_path\":\"/hQrHN6WXERVw6XUMpfCgLfvrh5V.jpg\",\"genre_ids\":[28,80,18],\"id\":272,\"media_type\":\"movie\",\"original_language\":\"en\",\"original_title\":\"Batman Begins\",\"overview\":\"Driven by tragedy, billionaire Bruce Wayne dedicates his life to uncovering and defeating the corruption that plagues his home, Gotham City.  Unable to work within the system, he instead creates a new identity, a symbol of fear for the criminal underworld - The Batman.\",\"poster_path\":\"/4MpN4kIEqUjW8OPtOQJXlTdHiJV.jpg\",\"release_date\":\"2005-06-10\",\"title\":\"Batman Begins\",\"video\":false,\"vote_average\":7.7,\"vote_count\":18166}],\"known_for_department\":\"Acting\",\"name\":\"Christian Bale\",\"popularity\":30.866,\"profile_path\":\"/qCpZn2e3dimwbryLnqxZuI88PTi.jpg\"},{\"adult\":false,\"gender\":1,\"id\":84224,\"known_for\":[{\"backdrop_path\":\"/Wu8kh7oyvaIfkNyMJyJHCamh5L.jpg\",\"first_air_date\":\"2020-12-04\",\"genre_ids\":[18],\"id\":97180,\"media_type\":\"tv\",\"name\":\"Selena: The Series\",\"origin_country\":[\"US\"],\"original_language\":\"en\",\"original_name\":\"Selena: The Series\",\"overview\":\"As Mexican-American Tejano singer Selena comes of age and realizes her dreams, she and her family make tough choices to hold on to love and music.\",\"poster_path\":\"/mYsWyfiIMxx4HDm0Wck7oJ9ckez.jpg\",\"vote_average\":7.5,\"vote_count\":1527},{\"backdrop_path\":\"/zaulpwl355dlKkvtAiSBE5LaoWA.jpg\",\"first_air_date\":\"2010-10-31\",\"genre_ids\":[10759,18,10765],\"id\":1402,\"media_type\":\"tv\",\"name\":\"The Walking Dead\",\"origin_country\":[\"US\"],\"original_language\":\"en\",\"original_name\":\"The Walking Dead\",\"overview\":\"Sheriff's deputy Rick Grimes awakens from a coma to find a post-apocalyptic world dominated by flesh-eating zombies. He sets out to find his family and encounters many other survivors along the way.\",\"poster_path\":\"/xf9wuDcqlUPWABZNeDKPbZUjWx0.jpg\",\"vote_average\":8.1,\"vote_count\":13651},{\"adult\":false,\"backdrop_path\":\"/weAYfu6FfrNxEDJ3xH1XpgQcqUv.jpg\",\"genre_ids\":[14,18,10749],\"id\":8966,\"media_type\":\"movie\",\"original_language\":\"en\",\"original_title\":\"Twilight\",\"overview\":\"When Bella Swan moves to a small town in the Pacific Northwest, she falls in love with Edward Cullen, a mysterious classmate who reveals himself to be a 108-year-old vampire. Despite Edward's repeated cautions, Bella can't stay away from him, a fatal move that endangers her own life.\",\"poster_path\":\"/3Gkb6jm6962ADUPaCBqzz9CTbn9.jpg\",\"release_date\":\"2008-11-20\",\"title\":\"Twilight\",\"video\":false,\"vote_average\":6.3,\"vote_count\":11809}],\"known_for_department\":\"Acting\",\"name\":\"Christian Serratos\",\"popularity\":19.26,\"profile_path\":\"/3odIVQPRdJ0aNuecrtciodBi0rL.jpg\"},{\"adult\":false,\"gender\":1,\"id\":52300,\"known_for\":[{\"adult\":false,\"backdrop_path\":\"/fYr0fqT9NImOuaN1QgnDHgGh4Ci.jpg\",\"genre_ids\":[16,10751,12,878],\"id\":10865,\"media_type\":\"movie\",\"original_language\":\"en\",\"original_title\":\"Atlantis: The Lost Empire\",\"overview\":\"The world's most highly qualified crew of archaeologists and explorers is led by historian Milo Thatch as they board the incredible 1,000-foot submarine Ulysses and head deep into the mysteries of the sea. The underwater expedition takes an unexpected turn when the team's mission must switch from exploring Atlantis to protecting it.\",\"poster_path\":\"/iqGKNML7IUqw4wVNobkpkeYZbUQ.jpg\",\"release_date\":\"2001-06-02\",\"title\":\"Atlantis: The Lost Empire\",\"video\":false,\"vote_average\":7,\"vote_count\":4004},{\"adult\":false,\"backdrop_path\":\"/3NhTdtnIwkZPbT5rAQ1yzItx2aH.jpg\",\"genre_ids\":[27,878,53],\"id\":12476,\"media_type\":\"movie\",\"original_language\":\"en\",\"original_title\":\"The Hidden\",\"overview\":\"When average, law-abiding citizens suddenly turn to a life of hedonistic behavior and violent crime, Detective Tom Beck is tasked with helping young FBI agent Lloyd Gallagher determine the cause in this tense, sci-fi thriller.\",\"poster_path\":\"/kBkk7lOjrQdY5P4yojGOVUT7h0V.jpg\",\"release_date\":\"1987-10-30\",\"title\":\"The Hidden\",\"video\":false,\"vote_average\":7,\"vote_count\":295},{\"backdrop_path\":\"/ymdCZck7hy7EDxUTR4Uq1MisfyX.jpg\",\"first_air_date\":\"1994-01-26\",\"genre_ids\":[18,10765],\"id\":3137,\"media_type\":\"tv\",\"name\":\"Babylon 5\",\"origin_country\":[\"US\"],\"original_language\":\"en\",\"original_name\":\"Babylon 5\",\"overview\":\"Babylon 5 is a five-mile long space station located in neutral space. Built by the Earth Alliance in the 2250s, it's goal is to maintain peace among the various alien races by providing a sanctuary where grievances and negotiations can be worked out among duly appointed ambassadors. A council made up of representatives from the five major space-faring civilizations - the Earth Alliance, Minbari Federation, Centauri Republic, Narn Regime, and Vorlon Empire - work with the League of Non-Aligned Worlds to keep interstellar relations under control. Aside from its diplomatic function, Babylon 5 also serves as a military post for Earth and a port of call for travelers, traders, businessmen, criminals, and Rangers.\",\"poster_path\":\"/rj87TqwabgJzslrH4G6BCDseBKV.jpg\",\"vote_average\":8.2,\"vote_count\":383}],\"known_for_department\":\"Acting\",\"name\":\"Claudia Christian\",\"popularity\":12.213,\"profile_path\":\"/bwmh731OxEyzgtR95nRraLDZLyB.jpg\"},{\"adult\":false,\"gender\":2,\"id\":219664,\"known_for\":[{\"backdrop_path\":\"/gZzIQxo2ukFSdZGtlttA0wI6kax.jpg\",\"first_air_date\":\"2011-06-05\",\"genre_ids\":[10765,18],\"id\":34524,\"media_type\":\"tv\",\"name\":\"Teen Wolf\",\"origin_country\":[\"US\"],\"original_language\":\"en\",\"original_name\":\"Teen Wolf\",\"overview\":\"Scott McCall, a high school student living in the town of Beacon Hills has his life drastically changed when he's bitten by a werewolf, becoming one himself. He must henceforth learn to balance his problematic new identity with his day-to-day teenage life. The following characters are instrumental to his struggle: Stiles, his best friend; Allison, his love interest who comes from a family of werewolf hunters; and Derek, a mysterious werewolf with a dark past. Throughout the series, he strives to keep his loved ones safe while maintaining normal relationships with them.\",\"poster_path\":\"/vY2vfAskJTiWsQSv6bdbNCQhPLm.jpg\",\"vote_average\":8.6,\"vote_count\":3401},{\"adult\":false,\"backdrop_path\":\"/cCjzu6OZIUDWowadzexCHNBTmjH.jpg\",\"genre_ids\":[878,28,53],\"id\":19959,\"media_type\":\"movie\",\"original_language\":\"en\",\"original_title\":\"Surrogates\",\"overview\":\"Set in a futuristic world where humans live in isolation and interact through surrogate robots, a cop is forced to leave his home for the first time in years in order to investigate the murders of others' surrogates.\",\"poster_path\":\"/v3Z0Hbl0oe57njrrIPh0fJPFoo.jpg\",\"release_date\":\"2009-09-24\",\"title\":\"Surrogates\",\"video\":false,\"vote_average\":6.1,\"vote_count\":2689},{\"backdrop_path\":\"/ypLoTftyF5EpGBxJas4PThIdiU4.jpg\",\"first_air_date\":\"2010-06-08\",\"genre_ids\":[18,9648],\"id\":31917,\"media_type\":\"tv\",\"name\":\"Pretty Little Liars\",\"origin_country\":[\"US\"],\"original_language\":\"en\",\"original_name\":\"Pretty Little Liars\",\"overview\":\"Based on the Pretty Little Liars series of young adult novels by Sara Shepard, the series follows the lives of four girls — Spencer, Hanna, Aria, and Emily — whose clique falls apart after the disappearance of their queen bee, Alison. One year later, they begin receiving messages from someone using the name \\\"A\\\" who threatens to expose their secrets — including long-hidden ones they thought only Alison knew.\",\"poster_path\":\"/aUPbHiLS3hCHKjtLsncFa9g0viV.jpg\",\"vote_average\":8,\"vote_count\":2230}],\"known_for_department\":\"Acting\",\"name\":\"Cody Christian\",\"popularity\":10.08,\"profile_path\":\"/l3DBlk7nLxIOYLKQ40kVHHvEgWB.jpg\"},{\"adult\":false,\"gender\":2,\"id\":174445,\"known_for\":[{\"adult\":false,\"backdrop_path\":\"/eBbge8LlrqWGo4MLsH7qXtOrpFi.jpg\",\"genre_ids\":[27,878,14,9648,53],\"id\":13812,\"media_type\":\"movie\",\"original_language\":\"en\",\"original_title\":\"Quarantine\",\"overview\":\"A television reporter and her cameraman are trapped inside a building quarantined by the CDC after the outbreak of a mysterious virus which turns humans into bloodthirsty killers.\",\"poster_path\":\"/rGfOD8IC1x4PqmnqRuA8KyCckia.jpg\",\"release_date\":\"2008-10-10\",\"title\":\"Quarantine\",\"video\":false,\"vote_average\":5.8,\"vote_count\":1052},{\"adult\":false,\"backdrop_path\":\"/bjckKAp0ZKxt4uWnjL8yuejJbm9.jpg\",\"genre_ids\":[53,28,80],\"id\":341190,\"media_type\":\"movie\",\"original_language\":\"sv\",\"original_title\":\"Johan Falk: Blodsdiamanter\",\"overview\":\"GSI follow up a weapon trail that leads right into Kavkaz mafia headquarters on the west coast. GSI member Niklas Saxlid is the one in the group who is specialized in undercover operations, and he has penetrated Kavkaz' activities. But suddenly something happens and Niklas disappears.\",\"poster_path\":\"/jXx81KJbBG1aYnRBKoQSDD1DF19.jpg\",\"release_date\":\"2015-07-27\",\"title\":\"Johan Falk: Blodsdiamanter\",\"video\":false,\"vote_average\":6.9,\"vote_count\":22},{\"backdrop_path\":\"/s5VKKdQ2pNHLxHGMP8Bbn0uV0iu.jpg\",\"first_air_date\":\"2020-05-01\",\"genre_ids\":[35,80],\"id\":102887,\"media_type\":\"tv\",\"name\":\"We Got This\",\"origin_country\":[\"SE\"],\"original_language\":\"sv\",\"original_name\":\"We Got This\",\"overview\":\"Struggling from the collapse of his career and a sudden unsurmountable tax debt, American immigrant George English stumbles onto the fact that there is a 50 million SEK reward for solving the murder of Olof Palme. He assembles a crew of misfits to assist him as he begins to imagine that solving this seemingly unsolvable crime of the century could be the answer to all of his problems, but as the deeper they go into the labyrinth the more dangerous their journey becomes.\",\"poster_path\":\"/tFx1634RORK2YJWntUv7byZAvXP.jpg\",\"vote_average\":6.1,\"vote_count\":13}],\"known_for_department\":\"Acting\",\"name\":\"Christian Svensson\",\"popularity\":10.092,\"profile_path\":\"/5p9YAfFnyuBrKE8Loa8OTmebc1r.jpg\"},{\"adult\":false,\"gender\":2,\"id\":28781,\"known_for\":[{\"adult\":false,\"backdrop_path\":\"/xSTedn34WWuOk5V60UK3ZXWwkXz.jpg\",\"genre_ids\":[35],\"id\":262391,\"media_type\":\"movie\",\"original_language\":\"fr\",\"original_title\":\"Qu'est-ce qu'on a fait au Bon Dieu ?\",\"overview\":\"A catholic French couple sees their life upside down when their four daughters get married to men of different religion and origins.\",\"poster_path\":\"/5Hw0GuPahcTCMsJNaLn37OVeXB3.jpg\",\"release_date\":\"2014-04-16\",\"title\":\"Serial (Bad) Weddings\",\"video\":false,\"vote_average\":6.7,\"vote_count\":3090},{\"adult\":false,\"backdrop_path\":\"/miavmZ9UTTCRSTDklhNKheZqvWg.jpg\",\"genre_ids\":[10751,14,35,12],\"id\":2899,\"media_type\":\"movie\",\"original_language\":\"fr\",\"original_title\":\"Astérix & Obélix Mission Cléopâtre\",\"overview\":\"The Egyptian Queen Cleopatra bets against the Roman Emperor, Julius Caesar, that her people are still great, even if the times of the Pharaohs has long passed. She vows (against all logic) to build a new palace for Caesar within three months. Since all her architects are either busy otherwise or too conservative in style, this ambivalent honor falls to Edifis. He is to build the palace and be covered in gold or, if not, his fate is to be eaten by crocodiles. Edifis calls upon an old friend to help him out: The fabulous Druid Getafix from Gaul, who brews a fantastic potion that gives supernatural strength. In order to help and protect the old Druid, Asterix and Obelix accompany him on his journey to Egypt. When Julius Caesar gets wind of the project succeeding, he has the building site attacked by his troops in order to win the bet and not lose face. But just like the local pirates, he hasn't counted on Asterix and Obelix.\",\"poster_path\":\"/fKIhO8pL7pVcIGkjP1cSDV9FOxu.jpg\",\"release_date\":\"2002-01-30\",\"title\":\"Asterix & Obelix: Mission Cleopatra\",\"video\":false,\"vote_average\":7.4,\"vote_count\":2796},{\"adult\":false,\"backdrop_path\":\"/1FxwuCdaMmCEsl3hSlafKRHR8Th.jpg\",\"genre_ids\":[10751,12,35,14],\"id\":9564,\"media_type\":\"movie\",\"original_language\":\"fr\",\"original_title\":\"Astérix & Obélix contre César\",\"overview\":\"Set in 50 B.C., Asterix and Obelix are living in a small but well-protected village in Gaul, where a magic potion concocted by Druids turns the townsfolk into mighty soldiers. When Roman troops carve a path through Gaul to reach the English Channel, Caesar and his aide de camp Detritus discover the secret elixir and capture the Druid leader who knows its formula, and Asterix and Obelix are sent off to rescue them.\",\"poster_path\":\"/sJ4zNakOuWcsW6ssH1qk80JehQ2.jpg\",\"release_date\":\"1999-02-03\",\"title\":\"Asterix & Obelix Take on Caesar\",\"video\":false,\"vote_average\":6,\"vote_count\":1547}],\"known_for_department\":\"Acting\",\"name\":\"Christian Clavier\",\"popularity\":9.604,\"profile_path\":\"/9WsvKjheeizXCcZrFjZCrCoItqO.jpg\"},{\"adult\":false,\"gender\":2,\"id\":1721268,\"known_for\":[{\"backdrop_path\":\"/8P15FsYcTwQZ4G5rRMd1TKD14Aq.jpg\",\"first_air_date\":\"2021-06-04\",\"genre_ids\":[18,10765],\"id\":103768,\"media_type\":\"tv\",\"name\":\"Sweet Tooth\",\"origin_country\":[\"US\"],\"original_language\":\"en\",\"original_name\":\"Sweet Tooth\",\"overview\":\"On a perilous adventure across a post-apocalyptic world, a lovable boy who's half-human and half-deer searches for a new beginning with a gruff protector.\",\"poster_path\":\"/zIzynKFGLUpCAj3h0zahSL6nZ3M.jpg\",\"vote_average\":8,\"vote_count\":987},{\"adult\":false,\"backdrop_path\":\"/vy5bKKjcdws80nF9xSCeuXqOyuL.jpg\",\"genre_ids\":[18],\"id\":451915,\"media_type\":\"movie\",\"original_language\":\"en\",\"original_title\":\"Beautiful Boy\",\"overview\":\"After he and his first wife separate, journalist David Sheff struggles to help their teenage son, who goes from experimenting with drugs to becoming devastatingly addicted to methamphetamine.\",\"poster_path\":\"/u2Gfv0mz3xePsgyCPHovrnFL1sB.jpg\",\"release_date\":\"2018-10-12\",\"title\":\"Beautiful Boy\",\"video\":false,\"vote_average\":7.5,\"vote_count\":1952},{\"adult\":false,\"backdrop_path\":\"/VuukZLgaCrho2Ar8Scl9HtV3yD.jpg\",\"genre_ids\":[878,28],\"id\":335983,\"media_type\":\"movie\",\"original_language\":\"en\",\"original_title\":\"Venom\",\"overview\":\"Investigative journalist Eddie Brock attempts a comeback following a scandal, but accidentally becomes the host of Venom, a violent, super powerful alien symbiote. Soon, he must rely on his newfound powers to protect the world from a shadowy organization looking for a symbiote of their own.\",\"poster_path\":\"/2uNW4WbgBXL25BAbXGLnLqX71Sw.jpg\",\"release_date\":\"2018-09-28\",\"title\":\"Venom\",\"video\":false,\"vote_average\":6.8,\"vote_count\":13700}],\"known_for_department\":\"Acting\",\"name\":\"Christian Convery\",\"popularity\":11.766,\"profile_path\":\"/eK9gxnka6e31sMUKQPMDPE1iDGS.jpg\"},{\"adult\":false,\"gender\":2,\"id\":71198,\"known_for\":[{\"adult\":false,\"backdrop_path\":\"/eE5U6RY22c0sDPSJSMkW8IYFNZr.jpg\",\"genre_ids\":[35,10749],\"id\":12090,\"media_type\":\"movie\",\"original_language\":\"en\",\"original_title\":\"Just Married\",\"overview\":\"Tom Leezak and Sarah McNerney fall in love and plan to get married, despite opposition from Sarah's uptight, rich family. When they do get married, and get a chance to prove Sarah's family wrong, they go on a European honeymoon and run into disaster after disaster. They have to decide whether the honeymoon from hell and a few pre-marital mistakes are worth throwing away their love and marriage.\",\"poster_path\":\"/dWGEGhyl7T5prK8o18IUTSafxjv.jpg\",\"release_date\":\"2003-01-08\",\"title\":\"Just Married\",\"video\":false,\"vote_average\":5.7,\"vote_count\":1150},{\"backdrop_path\":\"/pK22xswNJ02Hhfb9lRbXEjtXefP.jpg\",\"first_air_date\":\"2014-12-07\",\"genre_ids\":[10759],\"id\":61599,\"media_type\":\"tv\",\"name\":\"The Librarians\",\"origin_country\":[\"US\"],\"original_language\":\"en\",\"original_name\":\"The Librarians\",\"overview\":\"A group of librarians set off on adventures in an effort to save mysterious, ancient artifacts. Based on the series of \\\"The Librarian\\\" movies.\",\"poster_path\":\"/xr5Rwp5eMbXa5MM5WQpDqzWqX1j.jpg\",\"vote_average\":7.3,\"vote_count\":361},{\"adult\":false,\"backdrop_path\":\"/i6DwxrT5Pl1Pz4BwgAXwjm1HmaX.jpg\",\"genre_ids\":[28,35,53,80],\"id\":11045,\"media_type\":\"movie\",\"original_language\":\"en\",\"original_title\":\"Taxi\",\"overview\":\"A mouthy and feisty taxicab driver has hot tips for a green and inept cop set on solving a string of New York City bank robberies committed by a quartet of female Brazilian bank robbers.\",\"poster_path\":\"/5EJ3XEuiXCoqqYF7RIhWV0tByrB.jpg\",\"release_date\":\"2004-10-06\",\"title\":\"Taxi\",\"video\":false,\"vote_average\":5.6,\"vote_count\":843}],\"known_for_department\":\"Acting\",\"name\":\"Christian Kane\",\"popularity\":10.117,\"profile_path\":\"/bHQDqGBW2yCEsHlNMkmJpQA9lDr.jpg\"},{\"adult\":false,\"gender\":2,\"id\":36091,\"known_for\":[{\"adult\":false,\"backdrop_path\":\"/6zfLk86Hu5qjLiRs1Y7cGl1DtRm.jpg\",\"genre_ids\":[18,80,53],\"id\":22803,\"media_type\":\"movie\",\"original_language\":\"en\",\"original_title\":\"Law Abiding Citizen\",\"overview\":\"A frustrated man decides to take justice into his own hands after a plea bargain sets one of his family's killers free. He targets not only the killer but also the district attorney and others involved in the deal.\",\"poster_path\":\"/fcEXcip7v0O1ndV4VUdFqJSqbOg.jpg\",\"release_date\":\"2009-10-15\",\"title\":\"Law Abiding Citizen\",\"video\":false,\"vote_average\":7.3,\"vote_count\":4154},{\"backdrop_path\":\"/nIRkbnnSHZhbjR01ZEKFZGyCoUc.jpg\",\"first_air_date\":\"2012-10-10\",\"genre_ids\":[18],\"id\":44006,\"media_type\":\"tv\",\"name\":\"Chicago Fire\",\"origin_country\":[\"US\"],\"original_language\":\"en\",\"original_name\":\"Chicago Fire\",\"overview\":\"An edge-of-your-seat view into the lives of everyday heroes committed to one of America's noblest professions. For the firefighters, rescue squad and paramedics of Chicago Firehouse 51, no occupation is more stressful or dangerous, yet so rewarding and exhilarating. These courageous men and women are among the elite who forge headfirst into danger when everyone else is running the other way and whose actions make the difference between life and death.\",\"poster_path\":\"/iiI1YU8akLYWdWuX1qHuMYPvSHC.jpg\",\"vote_average\":8.5,\"vote_count\":1808},{\"adult\":false,\"backdrop_path\":\"/d9eONXYtCmQnPWw61w9pNMGlSzK.jpg\",\"genre_ids\":[35,18,14,10749],\"id\":1262,\"media_type\":\"movie\",\"original_language\":\"en\",\"original_title\":\"Stranger Than Fiction\",\"overview\":\"Harold Crick is a lonely IRS agent whose mundane existence is transformed when he hears a mysterious voice narrating his life.\",\"poster_path\":\"/nCzcepubwShvZ4vbCsygQNgF2Z1.jpg\",\"release_date\":\"2006-09-09\",\"title\":\"Stranger Than Fiction\",\"video\":false,\"vote_average\":7.3,\"vote_count\":1900}],\"known_for_department\":\"Acting\",\"name\":\"Christian Stolte\",\"popularity\":6.72,\"profile_path\":\"/xpjZXfLG5FFVQiiUFtHleLXCmFi.jpg\"},{\"adult\":false,\"gender\":2,\"id\":8444,\"known_for\":[{\"adult\":false,\"backdrop_path\":\"/1stUIsjawROZxjiCMtqqXqgfZWC.jpg\",\"genre_ids\":[12,14],\"id\":672,\"media_type\":\"movie\",\"original_language\":\"en\",\"original_title\":\"Harry Potter and the Chamber of Secrets\",\"overview\":\"Cars fly, trees fight back, and a mysterious house-elf comes to warn Harry Potter at the start of his second year at Hogwarts. Adventure and danger await when bloody writing on a wall announces: The Chamber Of Secrets Has Been Opened. To save Hogwarts will require all of Harry, Ron and Hermione’s magical abilities and courage.\",\"poster_path\":\"/sdEOH0992YZ0QSxgXNIGLq1ToUi.jpg\",\"release_date\":\"2002-11-13\",\"title\":\"Harry Potter and the Chamber of Secrets\",\"video\":false,\"vote_average\":7.7,\"vote_count\":18723},{\"adult\":false,\"backdrop_path\":\"/paqehq8Kf70LpyOMIwRsKjS1z7A.jpg\",\"genre_ids\":[18],\"id\":590,\"media_type\":\"movie\",\"original_language\":\"en\",\"original_title\":\"The Hours\",\"overview\":\"\\\"The Hours\\\" is the story of three women searching for more potent, meaningful lives. Each is alive at a different time and place, all are linked by their yearnings and their fears. Their stories intertwine, and finally come together in a surprising, transcendent moment of shared recognition.\",\"poster_path\":\"/4myDtowDJQPQnkEDB1IWGtJR1Fo.jpg\",\"release_date\":\"2002-12-27\",\"title\":\"The Hours\",\"video\":false,\"vote_average\":7.3,\"vote_count\":1389},{\"adult\":false,\"backdrop_path\":\"/np7nO2HGuFq3Cl0FJNUC0Libnh9.jpg\",\"genre_ids\":[18],\"id\":244268,\"media_type\":\"movie\",\"original_language\":\"en\",\"original_title\":\"Love Is Strange\",\"overview\":\"After 39 years together, Ben and George finally tie the knot, but George loses his job as a result, and the newlyweds must sell their New York apartment and live apart, relying on friends and family to make ends meet.\",\"poster_path\":\"/snuFND1d6eB5iJtXHEdMxve5XTw.jpg\",\"release_date\":\"2014-02-07\",\"title\":\"Love Is Strange\",\"video\":false,\"vote_average\":6.4,\"vote_count\":243}],\"known_for_department\":\"Acting\",\"name\":\"Christian Coulson\",\"popularity\":9.899,\"profile_path\":\"/kFwnSTUCCRFWSvqQAU1cykrLqPK.jpg\"},{\"adult\":false,\"gender\":2,\"id\":572724,\"known_for\":[{\"adult\":false,\"backdrop_path\":\"/3mO7fimik20gwkVNXNxbi0RY3wg.jpg\",\"genre_ids\":[35,10751,10770],\"id\":134375,\"media_type\":\"movie\",\"original_language\":\"en\",\"original_title\":\"Home Alone: The Holiday Heist\",\"overview\":\"8-year-old Finn is terrified to learn his family is relocating from sunny California to Maine in the scariest house he has ever seen! Convinced that his new house is haunted, Finn sets up a series of elaborate traps to catch the “ghost” in action. Left home alone with his sister while their parents are stranded across town, Finn’s traps catch a new target – a group of thieves who have targeted Finn’s house.\",\"poster_path\":\"/6JPrRC0JPM06y17pUXD6w1xMvKi.jpg\",\"release_date\":\"2012-11-25\",\"title\":\"Home Alone: The Holiday Heist\",\"video\":false,\"vote_average\":5.2,\"vote_count\":329},{\"adult\":false,\"backdrop_path\":\"/3gRM6huZXsKIIp9JEUE57IkoUOI.jpg\",\"genre_ids\":[35,18,10751],\"id\":71726,\"media_type\":\"movie\",\"original_language\":\"en\",\"original_title\":\"Snowmen\",\"overview\":\"Three young friends find adventure and purpose in their attempts to set a Guinness World Record. Set in a wintry mountain town, the unpopular trio pursues fame through a series of schemes and stunts that eventually imperil their own lives. Along the way, they conquer schoolyard bullies, unite their community and discover that while fame is fleeting, true friendship lasts forever.\",\"poster_path\":\"/YYz6nzEDXliCdbrxzN8CF5F2yp.jpg\",\"release_date\":\"2010-04-24\",\"title\":\"Snowmen\",\"video\":false,\"vote_average\":6.1,\"vote_count\":29},{\"adult\":false,\"backdrop_path\":\"/4vn6RFptNH06W3jMNDumUgNLFte.jpg\",\"genre_ids\":[18,10751,10770],\"id\":299591,\"media_type\":\"movie\",\"original_language\":\"en\",\"original_title\":\"The Christmas Parade\",\"overview\":\"A popular network morning host finds herself humiliated on the air by her fiancé and disappears to a small town. While there, she helps a budding artist save a community art center for the town's kids, by helping them with their float for the annual Christmas Parade.\",\"poster_path\":\"/xbFcTozizElEXP9uAxtTXbQa8mn.jpg\",\"release_date\":\"2014-12-14\",\"title\":\"The Christmas Parade\",\"video\":false,\"vote_average\":5.3,\"vote_count\":42}],\"known_for_department\":\"Acting\",\"name\":\"Christian Martyn\",\"popularity\":9.453,\"profile_path\":\"/kTwixMOquzSkPnElRj91X0Kkij4.jpg\"},{\"adult\":false,\"gender\":2,\"id\":47647,\"known_for\":[{\"adult\":false,\"backdrop_path\":\"/1y5vcV5gK3ENicoMAvsU0HdPixL.jpg\",\"genre_ids\":[878,53,18,9648,28],\"id\":406990,\"media_type\":\"movie\",\"original_language\":\"en\",\"original_title\":\"What Happened to Monday\",\"overview\":\"In a world where families are limited to one child due to overpopulation, a set of identical septuplets must avoid being put to a long sleep by the government and dangerous infighting while investigating the disappearance of one of their own.\",\"poster_path\":\"/atOgZMJpMrTdpqvPiHVPfBhR61l.jpg\",\"release_date\":\"2017-08-18\",\"title\":\"What Happened to Monday\",\"video\":false,\"vote_average\":7.2,\"vote_count\":5361},{\"adult\":false,\"backdrop_path\":\"/mJSe5dxKu8Sq0GfdjdWVqdGvzfV.jpg\",\"genre_ids\":[14,27,28],\"id\":60304,\"media_type\":\"movie\",\"original_language\":\"en\",\"original_title\":\"Hansel & Gretel: Witch Hunters\",\"overview\":\"After getting a taste for blood as children, Hansel and Gretel have become the ultimate vigilantes, hell-bent on retribution. Now, unbeknownst to them, Hansel and Gretel have become the hunted, and must face an evil far greater than witches... their past.\",\"poster_path\":\"/j343Rpj3WeNvP0SV80zveve70io.jpg\",\"release_date\":\"2013-01-17\",\"title\":\"Hansel & Gretel: Witch Hunters\",\"video\":false,\"vote_average\":6,\"vote_count\":5996},{\"adult\":false,\"backdrop_path\":\"/cdR0qwyaMfuZRfTYEixUmRnmdop.jpg\",\"genre_ids\":[28,18,10752,10749,53],\"id\":369885,\"media_type\":\"movie\",\"original_language\":\"en\",\"original_title\":\"Allied\",\"overview\":\"In 1942, an intelligence officer in North Africa encounters a female French Resistance fighter on a deadly mission behind enemy lines. When they reunite in London, their relationship is tested by the pressures of war.\",\"poster_path\":\"/5JlOrfXqKuaLuoTnmIPdQF1Nci2.jpg\",\"release_date\":\"2016-11-17\",\"title\":\"Allied\",\"video\":false,\"vote_average\":6.8,\"vote_count\":4021}],\"known_for_department\":\"Acting\",\"name\":\"Christian Rubeck\",\"popularity\":6.334,\"profile_path\":\"/frtmvN1vS34tJxzP1c51es9h44r.jpg\"},{\"adult\":false,\"gender\":2,\"id\":1237405,\"known_for\":[{\"backdrop_path\":\"/Qzpe5J1Q6i4uYw2sGJSBbswqbD.jpg\",\"first_air_date\":\"2017-03-31\",\"genre_ids\":[18,9648],\"id\":66788,\"media_type\":\"tv\",\"name\":\"13 Reasons Why\",\"origin_country\":[\"US\"],\"original_language\":\"en\",\"original_name\":\"13 Reasons Why\",\"overview\":\"After a teenage girl's perplexing suicide, a classmate receives a series of tapes that unravel the mystery of her tragic choice.\",\"poster_path\":\"/nel144y4dIOdFFid6twN5mAX9Yd.jpg\",\"vote_average\":7.7,\"vote_count\":3452},{\"adult\":false,\"backdrop_path\":\"/shIOFWkjTn2NRvq5r4Mn2xLdZeJ.jpg\",\"genre_ids\":[18,80,35],\"id\":401847,\"media_type\":\"movie\",\"original_language\":\"en\",\"original_title\":\"Can You Ever Forgive Me?\",\"overview\":\"When a bestselling celebrity biographer is no longer able to get published because she has fallen out of step with current tastes, she turns her art form to deception.\",\"poster_path\":\"/hPuZR2bFoV0kuBrA98exWyvTf40.jpg\",\"release_date\":\"2018-10-19\",\"title\":\"Can You Ever Forgive Me?\",\"video\":false,\"vote_average\":6.8,\"vote_count\":1083},{\"adult\":false,\"backdrop_path\":\"/3UcoX8gVusWaQI1jKQj2MOdf9zV.jpg\",\"genre_ids\":[53,28],\"id\":430354,\"media_type\":\"movie\",\"original_language\":\"en\",\"original_title\":\"Bushwick\",\"overview\":\"When an unknown military force invades Bushwick, a Brooklyn neighborhood, young student Lucy and war veteran Stupe must rely on each other to escape and survive.\",\"poster_path\":\"/9fGjmzxdiKWsrlY3syrm2aXeTq7.jpg\",\"release_date\":\"2017-08-25\",\"title\":\"Bushwick\",\"video\":false,\"vote_average\":5.1,\"vote_count\":382}],\"known_for_department\":\"Acting\",\"name\":\"Christian Navarro\",\"popularity\":9.138,\"profile_path\":\"/3GbOZdjoSVE2dkti9MKx44HidRi.jpg\"},{\"adult\":false,\"gender\":2,\"id\":73961,\"known_for\":[{\"adult\":false,\"backdrop_path\":\"/mbtvyCr73zTz45lANjURpKu493l.jpg\",\"genre_ids\":[35],\"id\":951,\"media_type\":\"movie\",\"original_language\":\"en\",\"original_title\":\"Kindergarten Cop\",\"overview\":\"Hard-edged cop John Kimble gets more than he bargained for when he goes undercover as a kindergarten teacher to get the goods on a brutal drug lord while at the same time protecting the man's young son. Pitted against a class of boisterous moppets whose antics try his patience and test his mettle, Kimble may have met his match … in more ways than one.\",\"poster_path\":\"/nKnHWwkXyvhzCYWm3FyRAv3qBrl.jpg\",\"release_date\":\"1990-12-21\",\"title\":\"Kindergarten Cop\",\"video\":false,\"vote_average\":6.1,\"vote_count\":2028},{\"adult\":false,\"backdrop_path\":\"/n5VzzrVkB76ClStko97bQ6UySlq.jpg\",\"genre_ids\":[35,27,878],\"id\":12702,\"media_type\":\"movie\",\"original_language\":\"en\",\"original_title\":\"Critters 3\",\"overview\":\"In what appears to be a cross between Critters and The Towering Inferno, the residents of a shoddy L.A. apartment block are chased up to the roof by hoards of the eponymous hairy horrors.\",\"poster_path\":\"/frjklbq23pRgBjhekEq6drQkrZm.jpg\",\"release_date\":\"1991-12-11\",\"title\":\"Critters 3\",\"video\":false,\"vote_average\":5.1,\"vote_count\":270},{\"adult\":false,\"backdrop_path\":\"/hXBpRmDP3loeVsiN1CFYi11tE8E.jpg\",\"genre_ids\":[35,10751,53],\"id\":48232,\"media_type\":\"movie\",\"original_language\":\"en\",\"original_title\":\"Twin Sitters\",\"overview\":\"An evil business executive (played by George Lazenby), is releasing dangerous toxins and the Barbarian Brothers set out to stop his evil work.\",\"poster_path\":\"/nFnpQ0WaXYJszWR1P40ZF5sw0Tl.jpg\",\"release_date\":\"1994-10-01\",\"title\":\"Twin Sitters\",\"video\":false,\"vote_average\":6.3,\"vote_count\":112}],\"known_for_department\":\"Acting\",\"name\":\"Christian Cousins\",\"popularity\":8.864,\"profile_path\":\"/dX1tuY8TdTf1wgU93PXXdksAY85.jpg\"},{\"adult\":false,\"gender\":1,\"id\":117112,\"known_for\":[{\"adult\":false,\"backdrop_path\":\"/g9ypRImifSFWGM3VZWPYvQAfXFV.jpg\",\"genre_ids\":[27,9648],\"id\":48421,\"media_type\":\"movie\",\"original_language\":\"en\",\"original_title\":\"The Devil's Hand\",\"overview\":\"A man is haunted by visions of a beautiful woman. When he finally meets her, he winds up involved in a satanic cult.\",\"poster_path\":\"/nLQawCmsE2rKKkvAav6u7FLl2jx.jpg\",\"release_date\":\"1961-09-13\",\"title\":\"The Devil's Hand\",\"video\":false,\"vote_average\":4.5,\"vote_count\":23},{\"adult\":false,\"backdrop_path\":\"/hQ7xqQpfkBrlJE7E7VLLSJFD7kH.jpg\",\"genre_ids\":[28,12],\"id\":70136,\"media_type\":\"movie\",\"original_language\":\"en\",\"original_title\":\"Tarzan and the Mermaids\",\"overview\":\"A high priest tries to force a young beauty to marry a pearl trader who is masquerading as the god Balu.\",\"poster_path\":\"/729UP57wf1f9qwYmXsRqSBt0oJC.jpg\",\"release_date\":\"1948-05-15\",\"title\":\"Tarzan and the Mermaids\",\"video\":false,\"vote_average\":6.4,\"vote_count\":47},{\"adult\":false,\"backdrop_path\":\"/giRGAYYd85l59Aq21CMOvveHy0N.jpg\",\"genre_ids\":[18],\"id\":281661,\"media_type\":\"movie\",\"original_language\":\"en\",\"original_title\":\"Casino Royale\",\"overview\":\"American spy James Bond must outsmart card wiz and crime boss LeChiffre while monitoring his actions.\",\"poster_path\":\"/b1UtRzwcGzWdcbfyGQfBsVOzTTP.jpg\",\"release_date\":\"1954-10-21\",\"title\":\"Casino Royale\",\"video\":false,\"vote_average\":5.3,\"vote_count\":29}],\"known_for_department\":\"Acting\",\"name\":\"Linda Christian\",\"popularity\":8.599,\"profile_path\":\"/f8yl6mxQo9eXcyzTz2AvIKYI4rN.jpg\"},{\"adult\":false,\"gender\":2,\"id\":1255923,\"known_for\":[{\"backdrop_path\":\"/wN0HIzrVJle9v4bLug0wuinCMhP.jpg\",\"first_air_date\":\"2012-05-28\",\"genre_ids\":[80,18],\"id\":43348,\"media_type\":\"tv\",\"name\":\"Pablo Escobar: The Drug Lord\",\"origin_country\":[\"CO\"],\"original_language\":\"es\",\"original_name\":\"Pablo Escobar: El Patrón del Mal\",\"overview\":\"Pablo is a man with a natural ability for business. Early in his life, Pablo is introduced to the business of cocaine and the power it yields. A young life of crime lands Pablo in and out of jail as he builds is criminal empire. Pablo expands his power through politics but it is not long before his conflicts as a Congressman and a drug lord collide. Pablo has his enemies executed, but not before the United States activates its own war on the Medellin cartel.\",\"poster_path\":\"/jZqm7HFuxfH9P0LFjQZ8nzrCUHP.jpg\",\"vote_average\":7.6,\"vote_count\":3089},{\"backdrop_path\":\"/7iBs4QZXYDwQt5Cf0mhrOWKbYFT.jpg\",\"first_air_date\":\"2020-08-14\",\"genre_ids\":[80,18],\"id\":104555,\"media_type\":\"tv\",\"name\":\"The Great Heist\",\"origin_country\":[\"CO\"],\"original_language\":\"es\",\"original_name\":\"El robo del siglo\",\"overview\":\"Based on the 1994 robbery of US$33 million from Colombia's central bank, which turned the country upside down.\",\"poster_path\":\"/j52EFofX8hCoenmvDC4AOppoPWu.jpg\",\"vote_average\":7.3,\"vote_count\":581},{\"backdrop_path\":\"/mJgcR4nSnBWxFxygLOhU6NCEJde.jpg\",\"first_air_date\":\"2020-02-10\",\"genre_ids\":[18,80,10766],\"id\":99310,\"media_type\":\"tv\",\"name\":\"Operación Pacífico\",\"origin_country\":[\"US\"],\"original_language\":\"es\",\"original_name\":\"Operación Pacífico\",\"overview\":\"The story of Captain Amalia Ortega, leader of a secret unit, whose mission is to capture the most wanted Mexican drug trafficker, putting both her profession and family's life at risk.\",\"poster_path\":\"/obYae85E176ODqVVZDAPxUQ741f.jpg\",\"vote_average\":7.7,\"vote_count\":380}],\"known_for_department\":\"Acting\",\"name\":\"Christian Tappán\",\"popularity\":7.144,\"profile_path\":\"/nxZfEjscDlc24ETnRmkPnNasSY.jpg\"},{\"adult\":false,\"gender\":2,\"id\":23962,\"known_for\":[{\"adult\":false,\"backdrop_path\":\"/s8AkVPrrn9NRAdeZh3351AnwZda.jpg\",\"genre_ids\":[14,18,36],\"id\":58433,\"media_type\":\"movie\",\"original_language\":\"en\",\"original_title\":\"The Apocalypse\",\"overview\":\"While Emperor Domitian persecutes the Christians, the aged apostle John has prophetic visions.\",\"poster_path\":\"/hOwTkAgULeJGSKWmI4C4YnWV5dD.jpg\",\"release_date\":\"2000-12-09\",\"title\":\"The Apocalypse\",\"video\":false,\"vote_average\":5.3,\"vote_count\":23},{\"adult\":false,\"backdrop_path\":\"/nhbsmCo3n15Rgpt8UadqZFbFzOx.jpg\",\"genre_ids\":[18],\"id\":222954,\"media_type\":\"movie\",\"original_language\":\"de\",\"original_title\":\"Die Jungen von der Paulstraße\",\"overview\":\"\",\"poster_path\":\"/xgT0lWm37Chz1Ev5lgtwoqvvwZK.jpg\",\"release_date\":\"2003-12-03\",\"title\":\"Die Jungen von der Paulstraße\",\"video\":false,\"vote_average\":6.1,\"vote_count\":29},{\"adult\":false,\"backdrop_path\":\"/xJTpg6VPTnuwt9QylD7s9zoIkF0.jpg\",\"genre_ids\":[36,18],\"id\":2331,\"media_type\":\"movie\",\"original_language\":\"en\",\"original_title\":\"Jesus\",\"overview\":\"The film is notable for presenting a more human Jesus, compared to more solemn portrayals in earlier films; here Jesus laughs and cries like anyone else. Among other things, he weeps at Joseph’s funeral, throws stones in Lake Galilee when meeting Simon Peter and James son of Zebedee for the first time, dances at the wedding at Cana, and starts a water-splashing fight with his disciples as well. Satan is portrayed as a man in modern dress (and as a woman in red). During his temptation of Jesus, he shows him the Earth from the vantage point of space. Satan also shows Jesus images of wars and destruction carried out in his name. The film adds an apocryphal Roman historian named “Livio” who watches and comments as events unfold; he is presumably named after Livy.\",\"poster_path\":\"/eVIBcMgHra4hNcsaVEW9ksEiCi2.jpg\",\"release_date\":\"1999-05-12\",\"title\":\"Jesus\",\"video\":false,\"vote_average\":6.2,\"vote_count\":39}],\"known_for_department\":\"Acting\",\"name\":\"Christian Kohlund\",\"popularity\":7.144,\"profile_path\":\"/uNe7asAJjCWa1RX1r8pn6SB7tPA.jpg\"},{\"adult\":false,\"gender\":2,\"id\":67017,\"known_for\":[{\"adult\":false,\"backdrop_path\":\"/17ncjPVrbBQ66N9U5mjpIluT4s0.jpg\",\"genre_ids\":[28,35,27,878,53],\"id\":10829,\"media_type\":\"movie\",\"original_language\":\"en\",\"original_title\":\"Tremors 3: Back to Perfection\",\"overview\":\"Burt Gummer returns home to Perfection, Nev., to find that the town of terror has become a theme park, and when the simulated giant worm attacks turn real, the survivalist must battle the creatures once again. Gummer pits his impressive knowledge of weaponry against the newest and deadliest generation of flesh-eating graboids, with help from two young entrepreneurs.\",\"poster_path\":\"/2dpgRy7ekDUNNk2FxYPkxBcG8li.jpg\",\"release_date\":\"2001-10-02\",\"title\":\"Tremors 3: Back to Perfection\",\"video\":false,\"vote_average\":5.8,\"vote_count\":491},{\"adult\":false,\"backdrop_path\":\"/qUBGfFx8ZEGFLE1ng8MrOdbm2Gq.jpg\",\"genre_ids\":[18],\"id\":39477,\"media_type\":\"movie\",\"original_language\":\"en\",\"original_title\":\"Small Town Saturday Night\",\"overview\":\"Just days before Rhett (Chris Pine) is leaving for Nashville to pursue a lifelong dream of being a singer/songwriter, his girlfriend Samantha (Bre Blair) realizes that \\\"his\\\" future may not be \\\"their\\\" future. This news comes as a shock to Rhett, and he is faced with having to choose between following his dream and staying in his hometown in order to be with the woman he loves.\",\"poster_path\":\"/4lcfwIpI1YfZzot7fP1N243vK8n.jpg\",\"release_date\":\"2010-05-31\",\"title\":\"Small Town Saturday Night\",\"video\":false,\"vote_average\":5.8,\"vote_count\":25},{\"adult\":false,\"backdrop_path\":\"/5z47mAfOqOtukg2AZsW1XBcUPfA.jpg\",\"genre_ids\":[53],\"id\":405796,\"media_type\":\"movie\",\"original_language\":\"en\",\"original_title\":\"Hidden Truth\",\"overview\":\"After a teenage girl is found murdered in a California town, a young woman is forced to prove her brother is innocent of the crime, discovering a disturbing dark side to the community.\",\"poster_path\":\"/i4xE9M12jxJLDXflGTQTnjJxnVK.jpg\",\"release_date\":\"2016-03-12\",\"title\":\"Hidden Truth\",\"video\":false,\"vote_average\":5.4,\"vote_count\":13}],\"known_for_department\":\"Acting\",\"name\":\"Shawn Christian\",\"popularity\":4.892,\"profile_path\":\"/A81YwcqkVNtQ71FMa77zAfiGxrY.jpg\"},{\"adult\":false,\"gender\":2,\"id\":114034,\"known_for\":[{\"adult\":false,\"backdrop_path\":\"/gxInxrSdEDUA5J3DT2wTj9vQIXr.jpg\",\"genre_ids\":[12,28,53],\"id\":52451,\"media_type\":\"movie\",\"original_language\":\"en\",\"original_title\":\"The Three Musketeers\",\"overview\":\"The hot-headed young D'Artagnan along with three former legendary but now down on their luck Musketeers must unite and defeat a beautiful double agent and her villainous employer from seizing the French throne and engulfing Europe in war.\",\"poster_path\":\"/w2LbQ8FvZiQpWvZyHljaOeiNknK.jpg\",\"release_date\":\"2011-08-31\",\"title\":\"The Three Musketeers\",\"video\":false,\"vote_average\":5.8,\"vote_count\":2312},{\"adult\":false,\"backdrop_path\":\"/kH14XvCHKfMRz1sNsAMY0KpAKb0.jpg\",\"genre_ids\":[10751,28,12,35],\"id\":7459,\"media_type\":\"movie\",\"original_language\":\"en\",\"original_title\":\"Speed Racer\",\"overview\":\"Speed Racer is the tale of a young and brilliant racing driver. When corruption in the racing leagues costs his brother his life, he must team up with the police and the mysterious Racer X to bring an end to the corruption and criminal activities. Inspired by the cartoon series.\",\"poster_path\":\"/x800OyHuJ9JDuhHLtdPLkH1vBjw.jpg\",\"release_date\":\"2008-05-07\",\"title\":\"Speed Racer\",\"video\":false,\"vote_average\":6.2,\"vote_count\":1258},{\"adult\":false,\"backdrop_path\":\"/hB2af4Up4UpWhdm3MJoXNjH6izf.jpg\",\"genre_ids\":[12,28],\"id\":277594,\"media_type\":\"movie\",\"original_language\":\"en\",\"original_title\":\"Hercules Reborn\",\"overview\":\"When a young man's bride is kidnapped by an evil king, he turns to Hercules for help. The fallen hero has been living in exile, banished for killing his family, but the young man's courage inspires Hercules. Together, they fight to rescue the bride and reclaim the honor of Hercules.\",\"poster_path\":\"/zustI9EStTWz2PxVmy8KvWVpJTP.jpg\",\"release_date\":\"2014-07-08\",\"title\":\"Hercules Reborn\",\"video\":false,\"vote_average\":4.3,\"vote_count\":63}],\"known_for_department\":\"Acting\",\"name\":\"Christian Oliver\",\"popularity\":6.986,\"profile_path\":\"/dKWSBikHvlvVlb69m13Gr10VxCf.jpg\"}],\"total_pages\":303,\"total_results\":6055}\n"
          ]
        }
      ],
      "source": [
        "import requests\n",
        "api_key = \"726b2e76bc9d66c75617e8e61bd317d1\"\n",
        "api_url = \"https://api.themoviedb.org/3\"\n",
        "\n",
        "\n",
        "params = {'query': \"christian\", 'api_key' : api_key}\n",
        "header = {'Accept': 'application/json'}\n",
        "\n",
        "response = requests.get(api_url + \"/search/person\", headers = header, params = params)\n",
        "\n",
        "print(response.url)\n",
        "print(response.text)"
      ]
    },
    {
      "cell_type": "code",
      "execution_count": null,
      "metadata": {
        "id": "EQijTjPA-n88",
        "outputId": "1702066c-8899-4939-bd14-41abdc1e1320"
      },
      "outputs": [
        {
          "name": "stdout",
          "output_type": "stream",
          "text": [
            "3894 : Christian Bale\n"
          ]
        }
      ],
      "source": [
        "data = response.json()\n",
        "\n",
        "results = data.get('results')\n",
        "# results = data['results']\n",
        "\n",
        "for result in results:\n",
        "    if(result['name'] ==\"Christian Bale\"):\n",
        "        print(str(result['id']) + \" : \" + result['name'])"
      ]
    },
    {
      "cell_type": "code",
      "execution_count": null,
      "metadata": {
        "id": "MmQytxIs-n89",
        "outputId": "8552c56a-2201-402c-e8f5-089aefa96083"
      },
      "outputs": [
        {
          "name": "stdout",
          "output_type": "stream",
          "text": [
            "https://api.themoviedb.org/3/discover/movie?with_cast=3894&api_key=726b2e76bc9d66c75617e8e61bd317d1&sort_by=popularity.desc\n",
            "{\"page\":1,\"results\":[{\"adult\":false,\"backdrop_path\":\"/jsoz1HlxczSuTx0mDl2h0lxy36l.jpg\",\"genre_ids\":[14,28,35],\"id\":616037,\"original_language\":\"en\",\"original_title\":\"Thor: Love and Thunder\",\"overview\":\"After his retirement is interrupted by Gorr the God Butcher, a galactic killer who seeks the extinction of the gods, Thor Odinson enlists the help of King Valkyrie, Korg, and ex-girlfriend Jane Foster, who now wields Mjolnir as the Mighty Thor. Together they embark upon a harrowing cosmic adventure to uncover the mystery of the God Butcher’s vengeance and stop him before it’s too late.\",\"popularity\":2466.001,\"poster_path\":\"/pIkRyD18kl4FhoCNQuWxWu5cBLM.jpg\",\"release_date\":\"2022-07-06\",\"title\":\"Thor: Love and Thunder\",\"video\":false,\"vote_average\":6.8,\"vote_count\":3613},{\"adult\":false,\"backdrop_path\":\"/nMKdUUepR0i5zn0y1T4CsSB5chy.jpg\",\"genre_ids\":[18,28,80,53],\"id\":155,\"original_language\":\"en\",\"original_title\":\"The Dark Knight\",\"overview\":\"Batman raises the stakes in his war on crime. With the help of Lt. Jim Gordon and District Attorney Harvey Dent, Batman sets out to dismantle the remaining criminal organizations that plague the streets. The partnership proves to be effective, but they soon find themselves prey to a reign of chaos unleashed by a rising criminal mastermind known to the terrified citizens of Gotham as the Joker.\",\"popularity\":101.714,\"poster_path\":\"/qJ2tW6WMUDux911r6m7haRef0WH.jpg\",\"release_date\":\"2008-07-14\",\"title\":\"The Dark Knight\",\"video\":false,\"vote_average\":8.5,\"vote_count\":28273},{\"adult\":false,\"backdrop_path\":\"/Yrpb32j3eMpMVX7ND3TnOkHnbl.jpg\",\"genre_ids\":[28,80,18,53],\"id\":49026,\"original_language\":\"en\",\"original_title\":\"The Dark Knight Rises\",\"overview\":\"Following the death of District Attorney Harvey Dent, Batman assumes responsibility for Dent's crimes to protect the late attorney's reputation and is subsequently hunted by the Gotham City Police Department. Eight years later, Batman encounters the mysterious Selina Kyle and the villainous Bane, a new terrorist leader who overwhelms Gotham's finest. The Dark Knight resurfaces to protect a city that has branded him an enemy.\",\"popularity\":102.832,\"poster_path\":\"/hr0L2aueqlP2BYUblTTjmtn0hw4.jpg\",\"release_date\":\"2012-07-16\",\"title\":\"The Dark Knight Rises\",\"video\":false,\"vote_average\":7.8,\"vote_count\":19962},{\"adult\":false,\"backdrop_path\":\"/hJ1jUw8irCiWwQk7BElxF92BrlK.jpg\",\"genre_ids\":[12,18,28],\"id\":147441,\"original_language\":\"en\",\"original_title\":\"Exodus: Gods and Kings\",\"overview\":\"The defiant leader Moses rises up against the Egyptian Pharaoh Ramses, setting 400,000 slaves on a monumental journey of escape from Egypt and its terrifying cycle of deadly plagues.\",\"popularity\":73.621,\"poster_path\":\"/uaDj37JtvLan9tihxZ18e6qL33b.jpg\",\"release_date\":\"2014-12-03\",\"title\":\"Exodus: Gods and Kings\",\"video\":false,\"vote_average\":5.8,\"vote_count\":4001},{\"adult\":false,\"backdrop_path\":\"/5tKiuZvvV1lic7v65rdoGPmoOvf.jpg\",\"genre_ids\":[28,878,53],\"id\":534,\"original_language\":\"en\",\"original_title\":\"Terminator Salvation\",\"overview\":\"All grown up in post-apocalyptic 2018, John Connor must lead the resistance of humans against the increasingly dominating militaristic robots. But when Marcus Wright appears, his existence confuses the mission as Connor tries to determine whether Wright has come from the future or the past -- and whether he's friend or foe.\",\"popularity\":86.263,\"poster_path\":\"/gw6JhlekZgtKUFlDTezq3j5JEPK.jpg\",\"release_date\":\"2009-05-20\",\"title\":\"Terminator Salvation\",\"video\":false,\"vote_average\":6,\"vote_count\":5570},{\"adult\":false,\"backdrop_path\":\"/za2MCwq5Trnwa2t5yXB4PvTjLtx.jpg\",\"genre_ids\":[28,80],\"id\":11322,\"original_language\":\"en\",\"original_title\":\"Public Enemies\",\"overview\":\"Depression-era bank robber John Dillinger's charm and audacity endear him to much of America's downtrodden public, but he's also a thorn in the side of J. Edgar Hoover and the fledgling FBI. Desperate to capture the elusive outlaw, Hoover makes Dillinger his first Public Enemy Number One and assigns his top agent, Melvin Purvis, the task of bringing him in dead or alive.\",\"popularity\":79.668,\"poster_path\":\"/ezFQaPf4cOEfsl39Me0gSV29d7V.jpg\",\"release_date\":\"2009-07-01\",\"title\":\"Public Enemies\",\"video\":false,\"vote_average\":6.7,\"vote_count\":3818},{\"adult\":false,\"backdrop_path\":\"/bneUTWFAcVCdsb0O5UwZbJd8xqZ.jpg\",\"genre_ids\":[53,18,80],\"id\":1359,\"original_language\":\"en\",\"original_title\":\"American Psycho\",\"overview\":\"A wealthy New York investment banking executive hides his alternate psychopathic ego from his co-workers and friends as he escalates deeper into his illogical, gratuitous fantasies.\",\"popularity\":60.661,\"poster_path\":\"/9uGHEgsiUXjCNq8wdq4r49YL8A1.jpg\",\"release_date\":\"2000-04-13\",\"title\":\"American Psycho\",\"video\":false,\"vote_average\":7.4,\"vote_count\":8388},{\"adult\":false,\"backdrop_path\":\"/hQrHN6WXERVw6XUMpfCgLfvrh5V.jpg\",\"genre_ids\":[28,80,18],\"id\":272,\"original_language\":\"en\",\"original_title\":\"Batman Begins\",\"overview\":\"Driven by tragedy, billionaire Bruce Wayne dedicates his life to uncovering and defeating the corruption that plagues his home, Gotham City.  Unable to work within the system, he instead creates a new identity, a symbol of fear for the criminal underworld - The Batman.\",\"popularity\":78.186,\"poster_path\":\"/4MpN4kIEqUjW8OPtOQJXlTdHiJV.jpg\",\"release_date\":\"2005-06-10\",\"title\":\"Batman Begins\",\"video\":false,\"vote_average\":7.7,\"vote_count\":18166},{\"adult\":false,\"backdrop_path\":\"/9YAVIwBcBrLXeukg2dgMGfYB1uu.jpg\",\"genre_ids\":[12,16,10751,10749],\"id\":10530,\"original_language\":\"en\",\"original_title\":\"Pocahontas\",\"overview\":\"Pocahontas, daughter of a Native American tribe chief, falls in love with an English soldier as colonists invade 17th century Virginia.\",\"popularity\":54.999,\"poster_path\":\"/kZ1ft0QZ4e3zDUPMBftEkwI9ftd.jpg\",\"release_date\":\"1995-06-14\",\"title\":\"Pocahontas\",\"video\":false,\"vote_average\":6.9,\"vote_count\":4943},{\"adult\":false,\"backdrop_path\":\"/ydmZIafp66mHABs3QJDwvjRgZfE.jpg\",\"genre_ids\":[18,28,36],\"id\":359724,\"original_language\":\"en\",\"original_title\":\"Ford v Ferrari\",\"overview\":\"American car designer Carroll Shelby and the British-born driver Ken Miles work together to battle corporate interference, the laws of physics, and their own personal demons to build a revolutionary race car for Ford Motor Company and take on the dominating race cars of Enzo Ferrari at the 24 Hours of Le Mans in France in 1966.\",\"popularity\":54.688,\"poster_path\":\"/dR1Ju50iudrOh3YgfwkAU1g2HZe.jpg\",\"release_date\":\"2019-11-13\",\"title\":\"Ford v Ferrari\",\"video\":false,\"vote_average\":8,\"vote_count\":5994},{\"adult\":false,\"backdrop_path\":\"/lB41VF8VM7sCj1BDXufRKjZt1Oj.jpg\",\"genre_ids\":[18,36,80],\"id\":664469,\"original_language\":\"en\",\"original_title\":\"Amsterdam\",\"overview\":\"In the 1930s, three friends—a doctor, a nurse, and an attorney—witness a murder, become suspects themselves and uncover one of the most outrageous plots in North American history.\",\"popularity\":35.981,\"poster_path\":\"/chCrPG0LJeilfJwsWPAfmWiJI2T.jpg\",\"release_date\":\"2022-09-27\",\"title\":\"Amsterdam\",\"video\":false,\"vote_average\":0,\"vote_count\":0},{\"adult\":false,\"backdrop_path\":\"/i7UCf0ysjbYYaqcSKUox9BJz4Kp.jpg\",\"genre_ids\":[35,18],\"id\":318846,\"original_language\":\"en\",\"original_title\":\"The Big Short\",\"overview\":\"The men who made millions from a global economic meltdown.\",\"popularity\":29.934,\"poster_path\":\"/isuQWbJPbjybBEWdcCaBUPmU0XO.jpg\",\"release_date\":\"2015-12-11\",\"title\":\"The Big Short\",\"video\":false,\"vote_average\":7.3,\"vote_count\":7649},{\"adult\":false,\"backdrop_path\":\"/mfJepkInUbiZ0mFXFhDNz8ko6Zr.jpg\",\"genre_ids\":[18,9648,878],\"id\":1124,\"original_language\":\"en\",\"original_title\":\"The Prestige\",\"overview\":\"A mysterious story of two magicians whose intense rivalry leads them on a life-long battle for supremacy -- full of obsession, deceit and jealousy with dangerous and deadly consequences.\",\"popularity\":33.776,\"poster_path\":\"/bdN3gXuIZYaJP7ftKK2sU0nPtEA.jpg\",\"release_date\":\"2006-10-19\",\"title\":\"The Prestige\",\"video\":false,\"vote_average\":8.2,\"vote_count\":13417},{\"adult\":false,\"backdrop_path\":\"/pApaVlxJCp2o4mrzCAD3AaLjq77.jpg\",\"genre_ids\":[12,18],\"id\":407436,\"original_language\":\"en\",\"original_title\":\"Mowgli: Legend of the Jungle\",\"overview\":\"A human child raised by wolves, must face off against a menacing tiger named Shere Khan, as well as his own origins.\",\"popularity\":24.155,\"poster_path\":\"/clRnzMsFoMIdC7I5JsG6dnnHH8l.jpg\",\"release_date\":\"2018-11-25\",\"title\":\"Mowgli: Legend of the Jungle\",\"video\":false,\"vote_average\":6.5,\"vote_count\":2245},{\"adult\":false,\"backdrop_path\":\"/bof71DUdBb5FwTylar4rnIVd8z.jpg\",\"genre_ids\":[18,80],\"id\":168672,\"original_language\":\"en\",\"original_title\":\"American Hustle\",\"overview\":\"A conman and his seductive partner are forced to work for a wild FBI agent, who pushes them into a world of Jersey power-brokers and the Mafia.\",\"popularity\":20.875,\"poster_path\":\"/z6O1KDhfWDTm5ZBr6Ovr0eg8LqO.jpg\",\"release_date\":\"2013-12-03\",\"title\":\"American Hustle\",\"video\":false,\"vote_average\":6.8,\"vote_count\":6416},{\"adult\":false,\"backdrop_path\":\"/ozdXqMwijV192aSrojjFQMGeWSh.jpg\",\"genre_ids\":[37,18,36],\"id\":384680,\"original_language\":\"en\",\"original_title\":\"Hostiles\",\"overview\":\"A legendary Native American-hating Army captain nearing retirement in 1892 is given one last assignment: to escort a Cheyenne chief and his family through dangerous territory back to his Montana reservation.\",\"popularity\":22.199,\"poster_path\":\"/rqoezyB51GfhiloOB5ZErg5HXas.jpg\",\"release_date\":\"2017-12-22\",\"title\":\"Hostiles\",\"video\":false,\"vote_average\":6.9,\"vote_count\":1929},{\"adult\":false,\"backdrop_path\":\"/lGDPYuPKgGWTqMnpL88EiYonOG7.jpg\",\"genre_ids\":[28,12,80,53],\"id\":479,\"original_language\":\"en\",\"original_title\":\"Shaft\",\"overview\":\"New York police detective John Shaft arrests Walter Wade Jr. for a racially motivated slaying. But the only eyewitness disappears, and Wade jumps bail for Switzerland. Two years later Wade returns to face trial, confident his money and influence will get him acquitted -- especially since he's paid a drug kingpin to kill the witness.\",\"popularity\":24.328,\"poster_path\":\"/5ncvnNPaN73cOqD4muE413sSOyY.jpg\",\"release_date\":\"2000-06-15\",\"title\":\"Shaft\",\"video\":false,\"vote_average\":6,\"vote_count\":1044},{\"adult\":false,\"backdrop_path\":\"/huZZBPyYUnMPCnrAFyJhnwYsQx9.jpg\",\"genre_ids\":[28,878,53],\"id\":7299,\"original_language\":\"en\",\"original_title\":\"Equilibrium\",\"overview\":\"In a dystopian future, a totalitarian regime maintains peace by subduing the populace with a drug, and displays of emotion are punishable by death. A man in charge of enforcing the law rises to overthrow the system.\",\"popularity\":23.315,\"poster_path\":\"/yQuovle5Ov6q69XSdTNdH52eANc.jpg\",\"release_date\":\"2002-12-06\",\"title\":\"Equilibrium\",\"video\":false,\"vote_average\":7,\"vote_count\":3772},{\"adult\":false,\"backdrop_path\":\"/bTTT7DWMZVwpbCeU9PG8TVHMAB8.jpg\",\"genre_ids\":[53,18],\"id\":4553,\"original_language\":\"en\",\"original_title\":\"The Machinist\",\"overview\":\"Trevor, an insomniac lathe operator, experiences unusual occurrences at work and home. A strange man follows him everywhere, but no one else seems to notice him.\",\"popularity\":18.578,\"poster_path\":\"/diAYqR4xdF9Hnj7qun6DEQhRrT2.jpg\",\"release_date\":\"2004-02-09\",\"title\":\"The Machinist\",\"video\":false,\"vote_average\":7.5,\"vote_count\":4572},{\"adult\":false,\"backdrop_path\":\"/9PnKdVpdC7HaNjQLKPygHMT637e.jpg\",\"genre_ids\":[99],\"id\":29751,\"original_language\":\"en\",\"original_title\":\"Batman Unmasked: The Psychology of the Dark Knight\",\"overview\":\"Delve into the world of Batman and the vigilante justice that he brought to the city of Gotham. Batman is a man who, after experiencing great tragedy, devotes his life to an ideal--but what happens when one man takes on the evil underworld alone? Examine why Batman is who he is--and explore how a boy scarred by tragedy becomes a symbol of hope to everyone else.\",\"popularity\":14.573,\"poster_path\":\"/e15wNHmLX7PJUo8lqzQRhwbX7PL.jpg\",\"release_date\":\"2008-07-15\",\"title\":\"Batman Unmasked: The Psychology of the Dark Knight\",\"video\":false,\"vote_average\":7.5,\"vote_count\":39}],\"total_pages\":4,\"total_results\":67}\n"
          ]
        }
      ],
      "source": [
        "import requests\n",
        "api_key = \"726b2e76bc9d66c75617e8e61bd317d1\"\n",
        "api_url = \"https://api.themoviedb.org/3\"\n",
        "\n",
        "\n",
        "params = {'with_cast': 3894, 'api_key' : api_key, 'sort_by' : 'popularity.desc'}\n",
        "header = {'Accept': 'application/json'}\n",
        "\n",
        "response = requests.get(api_url + \"/discover/movie\", headers = header, params = params)\n",
        "\n",
        "print(response.url)\n",
        "print(response.text)"
      ]
    },
    {
      "cell_type": "code",
      "execution_count": null,
      "metadata": {
        "id": "4RdmSnqK-n89",
        "outputId": "8363a797-6d5d-4e95-d325-a4c814981349"
      },
      "outputs": [
        {
          "name": "stdout",
          "output_type": "stream",
          "text": [
            "Thor: Love and Thunder : 2466.001\n",
            "The Dark Knight : 101.714\n",
            "The Dark Knight Rises : 102.832\n",
            "Exodus: Gods and Kings : 73.621\n",
            "Terminator Salvation : 86.263\n",
            "Public Enemies : 79.668\n",
            "American Psycho : 60.661\n",
            "Batman Begins : 78.186\n",
            "Pocahontas : 54.999\n",
            "Ford v Ferrari : 54.688\n",
            "Amsterdam : 35.981\n",
            "The Big Short : 29.934\n",
            "The Prestige : 33.776\n",
            "Mowgli: Legend of the Jungle : 24.155\n",
            "American Hustle : 20.875\n",
            "Hostiles : 22.199\n",
            "Shaft : 24.328\n",
            "Equilibrium : 23.315\n",
            "The Machinist : 18.578\n",
            "Batman Unmasked: The Psychology of the Dark Knight : 14.573\n"
          ]
        }
      ],
      "source": [
        "data = response.json()\n",
        "\n",
        "results = data.get('results')\n",
        "# results = data['results']\n",
        "\n",
        "for result in results:\n",
        "    print(result['title'] + \" : \" + str(result['popularity']))"
      ]
    },
    {
      "cell_type": "code",
      "execution_count": null,
      "metadata": {
        "id": "Qikk8km5-n89",
        "outputId": "ed6f0737-4ce9-411c-bf50-6df8ea3f3030"
      },
      "outputs": [
        {
          "name": "stdout",
          "output_type": "stream",
          "text": [
            "{'adult': False, 'backdrop_path': '/rIe3PnM6S7IBUmvNwDkBMX0i9EZ.jpg', 'created_by': [{'id': 9813, 'credit_id': '5256c8c219c2956ff604858a', 'name': 'David Benioff', 'gender': 2, 'profile_path': '/xvNN5huL0X8yJ7h3IZfGG4O2zBD.jpg'}, {'id': 228068, 'credit_id': '552e611e9251413fea000901', 'name': 'D.B. Weiss', 'gender': 2, 'profile_path': '/2RMejaT793U9KRk2IEbFfteQntE.jpg'}], 'episode_run_time': [60], 'first_air_date': '2011-04-17', 'genres': [{'id': 10765, 'name': 'Sci-Fi & Fantasy'}, {'id': 18, 'name': 'Drama'}, {'id': 10759, 'name': 'Action & Adventure'}], 'homepage': 'http://www.hbo.com/game-of-thrones', 'id': 1399, 'in_production': False, 'languages': ['en'], 'last_air_date': '2019-05-19', 'last_episode_to_air': {'air_date': '2019-05-19', 'episode_number': 6, 'id': 1551830, 'name': 'The Iron Throne', 'overview': \"In the aftermath of the devastating attack on King's Landing, Daenerys must face the survivors.\", 'production_code': '806', 'runtime': 80, 'season_number': 8, 'show_id': 1399, 'still_path': '/4OzrS6dv4Yx8PmJfknwmtY6jME6.jpg', 'vote_average': 4.7, 'vote_count': 203}, 'name': 'Game of Thrones', 'next_episode_to_air': None, 'networks': [{'id': 49, 'name': 'HBO', 'logo_path': '/tuomPhY2UtuPTqqFnKMVHvSb724.png', 'origin_country': 'US'}], 'number_of_episodes': 73, 'number_of_seasons': 8, 'origin_country': ['US'], 'original_language': 'en', 'original_name': 'Game of Thrones', 'overview': \"Seven noble families fight for control of the mythical land of Westeros. Friction between the houses leads to full-scale war. All while a very ancient evil awakens in the farthest north. Amidst the war, a neglected military order of misfits, the Night's Watch, is all that stands between the realms of men and icy horrors beyond.\", 'popularity': 1288.771, 'poster_path': '/u3bZgnGQ9T01sWNhyveQz0wH0Hl.jpg', 'production_companies': [{'id': 5820, 'logo_path': None, 'name': 'Generator Entertainment', 'origin_country': ''}, {'id': 12525, 'logo_path': None, 'name': 'Television 360', 'origin_country': ''}, {'id': 12526, 'logo_path': None, 'name': 'Bighead Littlehead', 'origin_country': ''}, {'id': 76043, 'logo_path': '/9RO2vbQ67otPrBLXCaC8UMp3Qat.png', 'name': 'Revolution Sun Studios', 'origin_country': 'US'}], 'production_countries': [{'iso_3166_1': 'GB', 'name': 'United Kingdom'}, {'iso_3166_1': 'US', 'name': 'United States of America'}], 'seasons': [{'air_date': '2010-12-05', 'episode_count': 260, 'id': 3627, 'name': 'Specials', 'overview': '', 'poster_path': '/kMTcwNRfFKCZ0O2OaBZS0nZ2AIe.jpg', 'season_number': 0}, {'air_date': '2011-04-17', 'episode_count': 10, 'id': 3624, 'name': 'Season 1', 'overview': \"Trouble is brewing in the Seven Kingdoms of Westeros. For the driven inhabitants of this visionary world, control of Westeros' Iron Throne holds the lure of great power. But in a land where the seasons can last a lifetime, winter is coming...and beyond the Great Wall that protects them, an ancient evil has returned. In Season One, the story centers on three primary areas: the Stark and the Lannister families, whose designs on controlling the throne threaten a tenuous peace; the dragon princess Daenerys, heir to the former dynasty, who waits just over the Narrow Sea with her malevolent brother Viserys; and the Great Wall--a massive barrier of ice where a forgotten danger is stirring.\", 'poster_path': '/qCOMbOrSeZ8n4Jur2GPCxpZsRgx.jpg', 'season_number': 1}, {'air_date': '2012-04-01', 'episode_count': 10, 'id': 3625, 'name': 'Season 2', 'overview': \"The cold winds of winter are rising in Westeros...war is coming...and five kings continue their savage quest for control of the all-powerful Iron Throne. With winter fast approaching, the coveted Iron Throne is occupied by the cruel Joffrey, counseled by his conniving mother Cersei and uncle Tyrion. But the Lannister hold on the Throne is under assault on many fronts. Meanwhile, a new leader is rising among the wildings outside the Great Wall, adding new perils for Jon Snow and the order of the Night's Watch.\", 'poster_path': '/9xfNkPwDOqyeUvfNhs1XlWA0esP.jpg', 'season_number': 2}, {'air_date': '2013-03-31', 'episode_count': 10, 'id': 3626, 'name': 'Season 3', 'overview': \"Duplicity and treachery...nobility and honor...conquest and triumph...and, of course, dragons. In Season 3, family and loyalty are the overarching themes as many critical storylines from the first two seasons come to a brutal head. Meanwhile, the Lannisters maintain their hold on King's Landing, though stirrings in the North threaten to alter the balance of power; Robb Stark, King of the North, faces a major calamity as he tries to build on his victories; a massive army of wildlings led by Mance Rayder march for the Wall; and Daenerys Targaryen--reunited with her dragons--attempts to raise an army in her quest for the Iron Throne.\", 'poster_path': '/fXtmhCXrnXAnduke8lWjD79y929.jpg', 'season_number': 3}, {'air_date': '2014-04-06', 'episode_count': 10, 'id': 3628, 'name': 'Season 4', 'overview': 'The War of the Five Kings is drawing to a close, but new intrigues and plots are in motion, and the surviving factions must contend with enemies not only outside their ranks, but within.', 'poster_path': '/si2JvKOzhlmNXu8GeXWdh8wXx7m.jpg', 'season_number': 4}, {'air_date': '2015-04-12', 'episode_count': 10, 'id': 62090, 'name': 'Season 5', 'overview': 'The War of the Five Kings, once thought to be drawing to a close, is instead entering a new and more chaotic phase. Westeros is on the brink of collapse, and many are seizing what they can while the realm implodes, like a corpse making a feast for crows.', 'poster_path': '/n8hn46N4wwDH2cza4hAgAtTvAhh.jpg', 'season_number': 5}, {'air_date': '2016-04-24', 'episode_count': 10, 'id': 71881, 'name': 'Season 6', 'overview': 'Following the shocking developments at the conclusion of season five, survivors from all parts of Westeros and Essos regroup to press forward, inexorably, towards their uncertain individual fates. Familiar faces will forge new alliances to bolster their strategic chances at survival, while new characters will emerge to challenge the balance of power in the east, west, north and south.', 'poster_path': '/ujHYrMh6gxLPTUX9DVWsCs3NmCL.jpg', 'season_number': 6}, {'air_date': '2017-07-16', 'episode_count': 7, 'id': 81266, 'name': 'Season 7', 'overview': 'The long winter is here. And with it comes a convergence of armies and attitudes that have been brewing for years.', 'poster_path': '/t4JNEWY3ni32vPe5ykbC8j7psXS.jpg', 'season_number': 7}, {'air_date': '2019-04-14', 'episode_count': 6, 'id': 107971, 'name': 'Season 8', 'overview': \"The Great War has come, the Wall has fallen and the Night King's army of the dead marches towards Westeros. The end is here, but who will take the Iron Throne?\", 'poster_path': '/kB8nALu2qG2H59K0SPXSIrKfmJ9.jpg', 'season_number': 8}], 'spoken_languages': [{'english_name': 'English', 'iso_639_1': 'en', 'name': 'English'}], 'status': 'Ended', 'tagline': 'Winter Is Coming', 'type': 'Scripted', 'vote_average': 8.423, 'vote_count': 19176}\n"
          ]
        }
      ],
      "source": [
        "# https://api.themoviedb.org/3/tv/1399?api_key=726b2e76bc9d66c75617e8e61bd317d1\n",
        "\n",
        "# Game of thrones information\n",
        "\n",
        "import json\n",
        "import requests\n",
        "\n",
        "response = requests.get('https://api.themoviedb.org/3/tv/1399?api_key=726b2e76bc9d66c75617e8e61bd317d1')\n",
        "\n",
        "# can also use this if we are sure if our content if json type for sure\n",
        "python_data = response.json()\n",
        "# python_data = json.loads(response.text)\n",
        "\n",
        "print(python_data)"
      ]
    },
    {
      "cell_type": "code",
      "execution_count": null,
      "metadata": {
        "id": "He8f9fJv-n8-",
        "outputId": "77a7ad0f-9ecb-4bbb-dc47-de3f951814ff"
      },
      "outputs": [
        {
          "name": "stdout",
          "output_type": "stream",
          "text": [
            "https://api.themoviedb.org/3/tv/1399?api_key=726b2e76bc9d66c75617e8e61bd317d1\n"
          ]
        }
      ],
      "source": [
        "print(response.url)"
      ]
    },
    {
      "cell_type": "code",
      "execution_count": null,
      "metadata": {
        "id": "BnhoHq4u-n8-",
        "outputId": "5a02a354-7d3f-4c80-c850-86d235d9c2fc"
      },
      "outputs": [
        {
          "name": "stdout",
          "output_type": "stream",
          "text": [
            "Season 1 : 10 Episodes\n",
            "Season 2 : 10 Episodes\n",
            "Season 3 : 10 Episodes\n",
            "Season 4 : 10 Episodes\n",
            "Season 5 : 10 Episodes\n",
            "Season 6 : 10 Episodes\n",
            "Season 7 : 7 Episodes\n",
            "Season 8 : 6 Episodes\n"
          ]
        }
      ],
      "source": [
        "seasons = python_data['seasons']\n",
        "\n",
        "for season in seasons[1:]:\n",
        "    print(\"Season \" + str(season['season_number']) + \" : \" + str(season['episode_count']) + \" Episodes\")"
      ]
    },
    {
      "cell_type": "code",
      "execution_count": null,
      "metadata": {
        "id": "c9GrLCA_-n8_"
      },
      "outputs": [],
      "source": []
    },
    {
      "cell_type": "code",
      "execution_count": null,
      "metadata": {
        "id": "XGL2xLDq-n8_"
      },
      "outputs": [],
      "source": []
    },
    {
      "cell_type": "code",
      "execution_count": null,
      "metadata": {
        "id": "QavH5ANH-n8_"
      },
      "outputs": [],
      "source": []
    },
    {
      "cell_type": "code",
      "execution_count": null,
      "metadata": {
        "id": "mYzrT0fn-n8_"
      },
      "outputs": [],
      "source": []
    },
    {
      "cell_type": "code",
      "execution_count": null,
      "metadata": {
        "id": "6AnqUnsM-n8_"
      },
      "outputs": [],
      "source": []
    },
    {
      "cell_type": "code",
      "execution_count": null,
      "metadata": {
        "id": "n7BPieFN-n8_"
      },
      "outputs": [],
      "source": []
    },
    {
      "cell_type": "code",
      "execution_count": null,
      "metadata": {
        "id": "8qzFifNZ-n8_"
      },
      "outputs": [],
      "source": []
    },
    {
      "cell_type": "code",
      "execution_count": null,
      "metadata": {
        "id": "LTVRm6AG-n8_"
      },
      "outputs": [],
      "source": []
    },
    {
      "cell_type": "code",
      "execution_count": null,
      "metadata": {
        "id": "ZIavOl1n-n8_"
      },
      "outputs": [],
      "source": []
    },
    {
      "cell_type": "code",
      "execution_count": null,
      "metadata": {
        "id": "kk283z8j-n8_"
      },
      "outputs": [],
      "source": []
    },
    {
      "cell_type": "code",
      "execution_count": null,
      "metadata": {
        "id": "jAzAVTQ4-n9A"
      },
      "outputs": [],
      "source": []
    }
  ],
  "metadata": {
    "kernelspec": {
      "display_name": "Python 3 (ipykernel)",
      "language": "python",
      "name": "python3"
    },
    "language_info": {
      "codemirror_mode": {
        "name": "ipython",
        "version": 3
      },
      "file_extension": ".py",
      "mimetype": "text/x-python",
      "name": "python",
      "nbconvert_exporter": "python",
      "pygments_lexer": "ipython3",
      "version": "3.8.10"
    },
    "colab": {
      "provenance": [],
      "include_colab_link": true
    }
  },
  "nbformat": 4,
  "nbformat_minor": 0
}